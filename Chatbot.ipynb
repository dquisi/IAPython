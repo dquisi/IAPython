{
 "cells": [
  {
   "cell_type": "markdown",
   "metadata": {},
   "source": [
    "# ChatBot Utilizando el IBM Assistant\n",
    "\n",
    "Lo primero que debemos hacer es importar las librerias"
   ]
  },
  {
   "cell_type": "code",
   "execution_count": 55,
   "metadata": {},
   "outputs": [],
   "source": [
    "import json\n",
    "from ibm_watson import AssistantV2\n",
    "from ibm_cloud_sdk_core.authenticators import IAMAuthenticator"
   ]
  },
  {
   "cell_type": "markdown",
   "metadata": {},
   "source": [
    "# Credencias\n",
    "Obtenemos las credenciales desde el portal de IBM Watson para ello nos vamos a : Assistant settings dentro del panel de controlo de las asistentes de IBM Watson"
   ]
  },
  {
   "cell_type": "code",
   "execution_count": 74,
   "metadata": {},
   "outputs": [],
   "source": [
    "authenticator = IAMAuthenticator('ZxijwcUvfjV3mt9UkNkm3EqhXvLlelScPCJx_-PPShqY')\n",
    "assistant = AssistantV2(\n",
    "    version='2020-04-01',\n",
    "    authenticator=authenticator)\n",
    "assistant.set_service_url('https://api.us-south.assistant.watson.cloud.ibm.com/instances/c109769a-c2b5-449b-9354-d5616b31e2be')\n",
    "assistant.set_disable_ssl_verification(False)"
   ]
  },
  {
   "cell_type": "markdown",
   "metadata": {},
   "source": [
    "## Sesiones\n",
    "\n",
    "Dentro de IBM Watson creamos una session por cada usuario que se conecte con el objetivo de saber cual es el flujo de infomacion y a que usuario corresponde"
   ]
  },
  {
   "cell_type": "code",
   "execution_count": 75,
   "metadata": {},
   "outputs": [
    {
     "name": "stdout",
     "output_type": "stream",
     "text": [
      "{\n",
      "  \"session_id\": \"9af8e932-eed1-4c9d-b349-4f9dbe48a8e1\"\n",
      "}\n",
      "9af8e932-eed1-4c9d-b349-4f9dbe48a8e1\n"
     ]
    }
   ],
   "source": [
    "session = assistant.create_session(\"2950c857-d205-4f27-a59c-25672c7a51a5\").get_result()\n",
    "print(json.dumps(session, indent=2))\n",
    "print(session['session_id'])"
   ]
  },
  {
   "cell_type": "markdown",
   "metadata": {},
   "source": [
    "## Ejecución del Chatbot\n",
    "\n",
    "Ejecutamos nuestro chatbot, para ello procedemos a enviarle un mensaje y este nos responde en base al flujo de trabajo del chatbot"
   ]
  },
  {
   "cell_type": "code",
   "execution_count": 76,
   "metadata": {},
   "outputs": [
    {
     "name": "stdout",
     "output_type": "stream",
     "text": [
      "{\n",
      "  \"output\": {\n",
      "    \"intents\": [\n",
      "      {\n",
      "        \"intent\": \"AUTO\",\n",
      "        \"confidence\": 0.9464063167572021\n",
      "      }\n",
      "    ],\n",
      "    \"entities\": [],\n",
      "    \"generic\": [\n",
      "      {\n",
      "        \"response_type\": \"text\",\n",
      "        \"text\": \"Que tipo de auto esta buscando\"\n",
      "      }\n",
      "    ]\n",
      "  }\n",
      "}\n"
     ]
    }
   ],
   "source": [
    "message = assistant.message(\n",
    "    \"2950c857-d205-4f27-a59c-25672c7a51a5\",\n",
    "    session['session_id'],\n",
    "    input={\n",
    "        'message_type': 'text',\n",
    "        'text': 'Necesito una auto'\n",
    "    }).get_result()\n",
    "print(json.dumps(message, indent=2))"
   ]
  },
  {
   "cell_type": "code",
   "execution_count": 78,
   "metadata": {},
   "outputs": [
    {
     "name": "stdout",
     "output_type": "stream",
     "text": [
      "{\n",
      "  \"output\": {\n",
      "    \"intents\": [\n",
      "      {\n",
      "        \"intent\": \"AUTO\",\n",
      "        \"confidence\": 0.8607078552246095\n",
      "      }\n",
      "    ],\n",
      "    \"entities\": [\n",
      "      {\n",
      "        \"entity\": \"tipoauto\",\n",
      "        \"location\": [\n",
      "          11,\n",
      "          20\n",
      "        ],\n",
      "        \"value\": \"Camioneta\",\n",
      "        \"confidence\": 1\n",
      "      }\n",
      "    ],\n",
      "    \"generic\": [\n",
      "      {\n",
      "        \"response_type\": \"text\",\n",
      "        \"text\": \"Tenemos disponible: Luv D-max, Ford 360, Datsun 1200, Toyota \"\n",
      "      }\n",
      "    ]\n",
      "  }\n",
      "}\n"
     ]
    }
   ],
   "source": [
    "message = assistant.message(\n",
    "    \"2950c857-d205-4f27-a59c-25672c7a51a5\",\n",
    "    session['session_id'],\n",
    "    input={\n",
    "        'message_type': 'text',\n",
    "        'text': 'Quiero una Camioneta'\n",
    "    }).get_result()\n",
    "print(json.dumps(message, indent=2))"
   ]
  }
 ],
 "metadata": {
  "kernelspec": {
   "display_name": "Python 3",
   "language": "python",
   "name": "python3"
  },
  "language_info": {
   "codemirror_mode": {
    "name": "ipython",
    "version": 3
   },
   "file_extension": ".py",
   "mimetype": "text/x-python",
   "name": "python",
   "nbconvert_exporter": "python",
   "pygments_lexer": "ipython3",
   "version": "3.7.3"
  }
 },
 "nbformat": 4,
 "nbformat_minor": 2
}
