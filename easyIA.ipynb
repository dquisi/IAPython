{
 "cells": [
  {
   "cell_type": "code",
   "execution_count": 1,
   "metadata": {},
   "outputs": [],
   "source": [
    "from easyAI  import TwoPlayersGame, Human_Player, AI_Player, Negamax\n",
    "import numpy as np"
   ]
  },
  {
   "cell_type": "code",
   "execution_count": 2,
   "metadata": {},
   "outputs": [],
   "source": [
    "class TresEnRaya(TwoPlayersGame):\n",
    "    def __init__(self, numeroJugadores):\n",
    "        self.tablero = np.zeros((3,3), dtype = int)\n",
    "        self.nplayer = 1\n",
    "        self.mapa = {}\n",
    "        cont = 1\n",
    "        for i in range(len(self.tablero)):\n",
    "            for j in range(len(self.tablero)):\n",
    "                self.mapa[cont] = (i,j)\n",
    "                cont+=1\n",
    "        self.players = numeroJugadores\n",
    "    def possible_moves(self):\n",
    "        moves = []\n",
    "        cont = 1\n",
    "        for i in range(len(self.tablero)):\n",
    "            for j in range(len(self.tablero)):\n",
    "                if self.tablero[i][j] == 0:\n",
    "                    moves.append(cont);\n",
    "                cont +=1\n",
    "        return moves\n",
    "    def make_move(self, casillero):\n",
    "        pos = self.mapa[casillero]\n",
    "        self.tablero[pos[0]][pos[1]] = self.nplayer\n",
    "    def unmake_move(self, casillero):\n",
    "        pos = self.mapa[casillero]\n",
    "        self.tablero[pos[0]][pos[1]] = 0\n",
    "    def lose(self):\n",
    "        for i in range (len(self.tablero)):\n",
    "            if np.all(self.tablero[i,:]==self.nopponent, axis = 0) or np.all(self.tablero[:,i] == self.nopponent, axis = 0):\n",
    "                return True\n",
    "            if self.tablero[0][0] == self.nopponent and self.tablero[1][1] == self.nopponent and self.tablero[2][2] == self.nopponent:\n",
    "                return True\n",
    "            if self.tablero[2][0] == self.nopponent and self.tablero[1][1] == self.nopponent and self.tablero[0][2] == self.nopponent: \n",
    "                return True\n",
    "        return False\n",
    "    def show(self):\n",
    "        print(self.tablero)\n",
    "    def scoring(self):\n",
    "        return -100 if self.lose() else 0\n",
    "    def is_over(self):\n",
    "        return (self.possible_moves() == [] or self.lose())\n",
    "\n",
    "    "
   ]
  },
  {
   "cell_type": "code",
   "execution_count": null,
   "metadata": {},
   "outputs": [
    {
     "name": "stdout",
     "output_type": "stream",
     "text": [
      "[[0 0 0]\n",
      " [0 0 0]\n",
      " [0 0 0]]\n"
     ]
    }
   ],
   "source": [
    "if __name__==\"__main__\":\n",
    "    ai_algo = Negamax(6)\n",
    "    tresenraya = TresEnRaya([Human_Player(), AI_Player(ai_algo)])\n",
    "    tresenraya.play()"
   ]
  },
  {
   "cell_type": "code",
   "execution_count": null,
   "metadata": {},
   "outputs": [],
   "source": []
  },
  {
   "cell_type": "code",
   "execution_count": null,
   "metadata": {},
   "outputs": [],
   "source": []
  }
 ],
 "metadata": {
  "kernelspec": {
   "display_name": "Python 3",
   "language": "python",
   "name": "python3"
  },
  "language_info": {
   "codemirror_mode": {
    "name": "ipython",
    "version": 3
   },
   "file_extension": ".py",
   "mimetype": "text/x-python",
   "name": "python",
   "nbconvert_exporter": "python",
   "pygments_lexer": "ipython3",
   "version": "3.7.3"
  }
 },
 "nbformat": 4,
 "nbformat_minor": 2
}
