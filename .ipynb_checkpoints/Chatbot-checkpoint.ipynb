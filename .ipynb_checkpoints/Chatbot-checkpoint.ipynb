{
 "cells": [
  {
   "cell_type": "code",
   "execution_count": 55,
   "metadata": {},
   "outputs": [],
   "source": [
    "import json\n",
    "from ibm_watson import AssistantV2\n",
    "from ibm_cloud_sdk_core.authenticators import IAMAuthenticator"
   ]
  },
  {
   "cell_type": "code",
   "execution_count": 60,
   "metadata": {},
   "outputs": [],
   "source": [
    "authenticator = IAMAuthenticator('MK5GkvZXfUn0sW-H21-I17uHUqmVrZYhexRYmHFQZuUI')\n",
    "assistant = AssistantV2(\n",
    "    version='2020-04-01',\n",
    "    authenticator=authenticator)\n",
    "assistant.set_service_url('https://api.us-south.assistant.watson.cloud.ibm.com/instances/d8baf239-8e45-468d-8f63-8b5c5ae0e086')\n",
    "assistant.set_disable_ssl_verification(False)"
   ]
  },
  {
   "cell_type": "code",
   "execution_count": 65,
   "metadata": {},
   "outputs": [
    {
     "name": "stdout",
     "output_type": "stream",
     "text": [
      "{\n",
      "  \"session_id\": \"257f9660-4cc2-473d-ad27-1d023a4670d8\"\n",
      "}\n",
      "257f9660-4cc2-473d-ad27-1d023a4670d8\n"
     ]
    }
   ],
   "source": [
    "session = assistant.create_session(\"bbbaf7ee-0743-4606-ba8b-4d1f4872c1cc\").get_result()\n",
    "print(json.dumps(session, indent=2))\n",
    "print(session['session_id'])"
   ]
  },
  {
   "cell_type": "code",
   "execution_count": 68,
   "metadata": {},
   "outputs": [
    {
     "name": "stdout",
     "output_type": "stream",
     "text": [
      "{\n",
      "  \"output\": {\n",
      "    \"intents\": [\n",
      "      {\n",
      "        \"intent\": \"AUTO\",\n",
      "        \"confidence\": 1\n",
      "      }\n",
      "    ],\n",
      "    \"entities\": [],\n",
      "    \"generic\": [\n",
      "      {\n",
      "        \"response_type\": \"text\",\n",
      "        \"text\": \"Que tipo de auto estaas buscando\"\n",
      "      }\n",
      "    ]\n",
      "  }\n",
      "}\n"
     ]
    }
   ],
   "source": [
    "message = assistant.message(\n",
    "    \"bbbaf7ee-0743-4606-ba8b-4d1f4872c1cc\",\n",
    "    session['session_id'],\n",
    "    input={\n",
    "        'message_type': 'text',\n",
    "        'text': 'Quiero un auto'\n",
    "    }).get_result()\n",
    "print(json.dumps(message, indent=2))"
   ]
  }
 ],
 "metadata": {
  "kernelspec": {
   "display_name": "Python 3",
   "language": "python",
   "name": "python3"
  },
  "language_info": {
   "codemirror_mode": {
    "name": "ipython",
    "version": 3
   },
   "file_extension": ".py",
   "mimetype": "text/x-python",
   "name": "python",
   "nbconvert_exporter": "python",
   "pygments_lexer": "ipython3",
   "version": "3.7.3"
  }
 },
 "nbformat": 4,
 "nbformat_minor": 2
}
